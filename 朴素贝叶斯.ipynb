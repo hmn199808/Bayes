{
 "cells": [
  {
   "cell_type": "markdown",
   "metadata": {},
   "source": [
    "# 垃圾邮件过滤"
   ]
  },
  {
   "cell_type": "code",
   "execution_count": 45,
   "metadata": {},
   "outputs": [],
   "source": [
    "import numpy as np\n",
    "import pandas as pd\n",
    "import re\n",
    "import random"
   ]
  },
  {
   "cell_type": "code",
   "execution_count": 54,
   "metadata": {},
   "outputs": [],
   "source": [
    "# 分词\n",
    "def textParse(input_string):\n",
    "    # 分词\n",
    "    listofTokens = re.split(r'\\W+', input_string)\n",
    "    # 转成小写单词\n",
    "    return [tok.lower() for tok in listofTokens if len(listofTokens) > 2]"
   ]
  },
  {
   "cell_type": "code",
   "execution_count": 47,
   "metadata": {},
   "outputs": [],
   "source": [
    "# 创建单词表（去重）\n",
    "def creatVocablist(doclist):\n",
    "    vocabSet = set([])\n",
    "    for document in doclist:\n",
    "        vocabSet = vocabSet | set(document)\n",
    "    return list(vocabSet)"
   ]
  },
  {
   "cell_type": "code",
   "execution_count": 48,
   "metadata": {},
   "outputs": [],
   "source": [
    "# 将文本向量化\n",
    "def setOfWord2Vec(vocablist, inputSet):\n",
    "    returnVec = [0]*len(vocablist)\n",
    "    for word in inputSet:\n",
    "        if word in vocablist:\n",
    "            returnVec[vocablist.index(word)] = 1\n",
    "    return returnVec"
   ]
  },
  {
   "cell_type": "code",
   "execution_count": 58,
   "metadata": {},
   "outputs": [],
   "source": [
    "def trainNB(trainMat, trainClass):\n",
    "    numTrainDocs = len(trainMat)\n",
    "    numWords = len(trainMat[0])\n",
    "    # 计算垃圾邮件的后验概率\n",
    "    p1 = sum(trainClass) / float(numTrainDocs)\n",
    "    \n",
    "    # 垃圾/正常邮件中对应的词出现的频率\n",
    "    p0Num = np.ones((numWords))\n",
    "    p1Num = np.ones((numWords))\n",
    "    \n",
    "    # 条件概率的分母  初始化为类别个数\n",
    "    p0Denom = 2\n",
    "    p1Denom = 2\n",
    "    \n",
    "    for i in range(numTrainDocs):\n",
    "        # 垃圾邮件\n",
    "        if trainClass[i] == 1:\n",
    "            p1Num += trainMat[i]\n",
    "            p1Denom += sum(trainMat[i])\n",
    "        else:\n",
    "            p0Num += trainMat[i]\n",
    "            p0Denom += sum(trainMat[i])\n",
    "            \n",
    "    p1Vec = np.log(p1Num / p1Denom)\n",
    "    p0Vec = np.log(p0Num / p0Denom)\n",
    "    \n",
    "    return p0Vec, p1Vec, p1"
   ]
  },
  {
   "cell_type": "code",
   "execution_count": 50,
   "metadata": {},
   "outputs": [],
   "source": [
    "def classifyNB(wordVec, p0Vec, p1Vec, p1_class):\n",
    "    p1 = np.log(p1_class) + sum(wordVec * p1Vec)\n",
    "    p0 = np.log(1.0 - p1_class) + sum(wordVec * p0Vec)\n",
    "    if p0 > p1:\n",
    "        return 0\n",
    "    else:\n",
    "        return 1\n",
    "    "
   ]
  },
  {
   "cell_type": "code",
   "execution_count": 112,
   "metadata": {},
   "outputs": [
    {
     "name": "stdout",
     "output_type": "stream",
     "text": [
      "当前10个样本， 错误了： 2\n"
     ]
    }
   ],
   "source": [
    "def spam():\n",
    "    # 每封邮件对应分词列表\n",
    "    doclist = []\n",
    "    # 每封邮件对应类别列表\n",
    "    classlist = []\n",
    "    \n",
    "    # 循环读取邮件文件，并分词\n",
    "    for i in range(1, 26):\n",
    "        # 读取邮件，并分词\n",
    "        wordlist = textParse(open('email/spam/%d.txt' % i, \"r\").read())\n",
    "        doclist.append(wordlist)\n",
    "        # 1表示垃圾邮件\n",
    "        classlist.append(1)\n",
    "        \n",
    "        wordlist = textParse(open('email/ham/%d.txt' % i, \"r\").read())\n",
    "        doclist.append(wordlist)\n",
    "        # 0表示正常邮件\n",
    "        classlist.append(0)\n",
    "    \n",
    "    # 单词语料表\n",
    "    vocablist = creatVocablist(doclist)\n",
    "    \n",
    "    # 随机划分训练和测试集\n",
    "    trainSet = list(range(50))\n",
    "    testSet = []\n",
    "    for i in range(10):\n",
    "        randIndex = int(random.uniform(0, len(trainSet)))\n",
    "        testSet.append(trainSet[randIndex])\n",
    "        del (trainSet[randIndex])\n",
    "    \n",
    "    # 准备训练数据\n",
    "    trainMat = []\n",
    "    trainClass = []\n",
    "    # 遍历训练集，将文本向量化\n",
    "    for docIndex in trainSet:\n",
    "        trainMat.append(setOfWord2Vec(vocablist, doclist[docIndex]))\n",
    "        trainClass.append(classlist[docIndex])\n",
    "    \n",
    "    p0Vec, p1Vec, p1 = trainNB(np.array(trainMat), np.array(trainClass))\n",
    "    \n",
    "    # 测试数据\n",
    "    # 错误分类样本数量\n",
    "    errorCount = 0\n",
    "    \n",
    "    # 循环测试样本\n",
    "    for docIndex in testSet:\n",
    "        wordVec = setOfWord2Vec(vocablist, doclist[docIndex])\n",
    "        if classifyNB(np.array(wordVec), p0Vec, p1Vec, p1) != classlist[docIndex]:\n",
    "            errorCount += 1\n",
    "    print(\"当前10个样本， 错误了：\", errorCount)\n",
    "    \n",
    "if __name__ == \"__main__\":\n",
    "    spam()"
   ]
  }
 ],
 "metadata": {
  "kernelspec": {
   "display_name": "Python 3",
   "language": "python",
   "name": "python3"
  },
  "language_info": {
   "codemirror_mode": {
    "name": "ipython",
    "version": 3
   },
   "file_extension": ".py",
   "mimetype": "text/x-python",
   "name": "python",
   "nbconvert_exporter": "python",
   "pygments_lexer": "ipython3",
   "version": "3.7.3"
  }
 },
 "nbformat": 4,
 "nbformat_minor": 2
}
